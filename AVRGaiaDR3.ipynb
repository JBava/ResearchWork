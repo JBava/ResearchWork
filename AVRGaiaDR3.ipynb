{
 "cells": [
  {
   "cell_type": "markdown",
   "id": "9ff93462",
   "metadata": {},
   "source": [
    "# Galaxy disc analysis using data from Gaia DR3"
   ]
  },
  {
   "cell_type": "code",
   "execution_count": 1,
   "id": "795b2567",
   "metadata": {
    "scrolled": true
   },
   "outputs": [],
   "source": [
    "import astropy\n",
    "import numpy\n",
    "from matplotlib import pyplot as plt\n",
    "import pandas as pd\n",
    "df = pd.read_hdf('Desktop/GaiaData/ages_GDR3_GSPSPEC_v01.h5')"
   ]
  },
  {
   "cell_type": "code",
   "execution_count": 2,
   "id": "eb2bb64c",
   "metadata": {
    "scrolled": true
   },
   "outputs": [
    {
     "name": "stdout",
     "output_type": "stream",
     "text": [
      "Index(['source_id', 'ra', 'dec', 'r_med_geo', 'r_lo_geo', 'r_hi_geo',\n",
      "       'r_med_photogeo', 'r_lo_photogeo', 'r_hi_photogeo', 'Teff_spec',\n",
      "       'logg_spec', 'meta_spec', 'age_spec', 'age_error_spec', 'M_ini_spec',\n",
      "       'M_ini_error_spec', 'G_spec', 'G_BP_spec', 'G_RP_spec', 'G_error_spec',\n",
      "       'G_BP_error_spec', 'G_RP_error_spec', 'Teff_specjhk', 'logg_specjhk',\n",
      "       'meta_specjhk', 'age_specjhk', 'age_error_specjhk', 'M_ini_specjhk',\n",
      "       'M_ini_error_specjhk', 'G_specjhk', 'G_BP_specjhk', 'G_RP_specjhk',\n",
      "       'G_error_specjhk', 'G_BP_error_specjhk', 'G_RP_error_specjhk',\n",
      "       'Teff_specjhkg', 'logg_specjhkg', 'meta_specjhkg', 'age_specjhkg',\n",
      "       'age_error_specjhkg', 'M_ini_specjhkg', 'M_ini_error_specjhkg',\n",
      "       'G_specjhkg', 'G_BP_specjhkg', 'G_RP_specjhkg', 'G_error_specjhkg',\n",
      "       'G_BP_error_specjhkg', 'G_RP_error_specjhkg', 'Teff_speck',\n",
      "       'logg_speck', 'meta_speck', 'age_speck', 'age_error_speck',\n",
      "       'M_ini_speck', 'M_ini_error_speck', 'G_speck', 'G_BP_speck',\n",
      "       'G_RP_speck', 'G_error_speck', 'G_BP_error_speck', 'G_RP_error_speck',\n",
      "       'Teff', 'logg', 'meta', 'age', 'age_error', 'M_ini', 'M_ini_error', 'G',\n",
      "       'G_BP', 'G_RP', 'G_error', 'G_BP_error', 'G_RP_error', 'EBPRP',\n",
      "       'EBPRP_error', 'pflavour'],\n",
      "      dtype='object')\n"
     ]
    }
   ],
   "source": [
    "print(df.columns)"
   ]
  },
  {
   "cell_type": "code",
   "execution_count": 3,
   "id": "237981fc",
   "metadata": {},
   "outputs": [
    {
     "name": "stdout",
     "output_type": "stream",
     "text": [
      "0        8.419918\n",
      "1        0.859806\n",
      "2             NaN\n",
      "3        5.861386\n",
      "4        9.727170\n",
      "          ...    \n",
      "996           NaN\n",
      "997      7.836593\n",
      "998      1.166882\n",
      "999      0.497010\n",
      "1000    13.466495\n",
      "Name: age, Length: 1001, dtype: float32\n"
     ]
    }
   ],
   "source": [
    "StellarAge=df.age\n",
    "AgeError=df.age_error\n",
    "StellarAgee=(StellarAge.head(1001))\n",
    "#AgeErrorr=(AgeError.head(1001))\n",
    "#StellarAgee.to_numpy()\n",
    "#ages are stated in Gyr, errors associated with ages \n",
    "pd.DataFrame(StellarAgee).to_numpy()\n",
    "print(StellarAgee)"
   ]
  },
  {
   "cell_type": "code",
   "execution_count": 4,
   "id": "ae5a3cc5",
   "metadata": {},
   "outputs": [
    {
     "name": "stdout",
     "output_type": "stream",
     "text": [
      "0        8.419918\n",
      "1        0.859806\n",
      "2             NaN\n",
      "3        5.861386\n",
      "4        9.727170\n",
      "          ...    \n",
      "996           NaN\n",
      "997      7.836593\n",
      "998      1.166882\n",
      "999      0.497010\n",
      "1000    13.466495\n",
      "Name: age, Length: 1001, dtype: float32 0       0.560733\n",
      "1       2.120291\n",
      "2       2.308507\n",
      "3       2.094632\n",
      "4       0.269041\n",
      "          ...   \n",
      "996     0.417161\n",
      "997     2.628953\n",
      "998     0.178671\n",
      "999     0.473690\n",
      "1000    2.809844\n",
      "Name: age_error, Length: 1001, dtype: float32\n"
     ]
    }
   ],
   "source": [
    "#Plotting first 10000 values \n",
    "Ages=(StellarAge.head(1001))\n",
    "AgeEr=(AgeError.head(1001))\n",
    "print(Ages, AgeEr)"
   ]
  },
  {
   "cell_type": "code",
   "execution_count": 5,
   "id": "8d184622",
   "metadata": {},
   "outputs": [
    {
     "data": {
      "text/plain": [
       "(0.0, 13.7)"
      ]
     },
     "execution_count": 5,
     "metadata": {},
     "output_type": "execute_result"
    },
    {
     "data": {
      "image/png": "[encoded data removed]",
      "text/plain": [
       "<Figure size 432x288 with 1 Axes>"
      ]
     },
     "metadata": {
      "needs_background": "light"
     },
     "output_type": "display_data"
    }
   ],
   "source": [
    "plt.scatter(Ages, AgeEr)\n",
    "plt.title('Stellar Ages and their associated error')\n",
    "plt.ylabel('Error ±Gyr')\n",
    "plt.xlabel('Age in Gyr')\n",
    "plt.ylim(-0.1,6) \n",
    "plt.xlim(0, 13.7)"
   ]
  },
  {
   "cell_type": "markdown",
   "id": "8e36d7a2",
   "metadata": {},
   "source": [
    "The graph above highlights that there is no clear correlation between the error and the age of a star, this may suggest that we need to take into account different stellar properties when considering errors in stellar ages - we could use properties such as radial distance and metallicity (i.e cross calibrate) to establish a stronger connection."
   ]
  },
  {
   "cell_type": "code",
   "execution_count": 6,
   "id": "da356d50",
   "metadata": {},
   "outputs": [],
   "source": [
    "df2=pd.read_hdf('Desktop/GaiaData/ages_orbits_GDR3_GSPSPEConly_v01.h5')"
   ]
  },
  {
   "cell_type": "code",
   "execution_count": 7,
   "id": "d00da7d3",
   "metadata": {},
   "outputs": [
    {
     "data": {
      "text/html": [
       "<div>\n",
       "<style scoped>\n",
       "    .dataframe tbody tr th:only-of-type {\n",
       "        vertical-align: middle;\n",
       "    }\n",
       "\n",
       "    .dataframe tbody tr th {\n",
       "        vertical-align: top;\n",
       "    }\n",
       "\n",
       "    .dataframe thead th {\n",
       "        text-align: right;\n",
       "    }\n",
       "</style>\n",
       "<table border=\"1\" class=\"dataframe\">\n",
       "  <thead>\n",
       "    <tr style=\"text-align: right;\">\n",
       "      <th></th>\n",
       "      <th>source_id</th>\n",
       "      <th>X_med_dgeo</th>\n",
       "      <th>X_lo_dgeo</th>\n",
       "      <th>X_hi_dgeo</th>\n",
       "      <th>Y_med_dgeo</th>\n",
       "      <th>Y_lo_dgeo</th>\n",
       "      <th>Y_hi_dgeo</th>\n",
       "      <th>Z_med_dgeo</th>\n",
       "      <th>Z_lo_dgeo</th>\n",
       "      <th>Z_hi_dgeo</th>\n",
       "      <th>...</th>\n",
       "      <th>M_ini_error</th>\n",
       "      <th>G</th>\n",
       "      <th>G_BP</th>\n",
       "      <th>G_RP</th>\n",
       "      <th>G_error</th>\n",
       "      <th>G_BP_error</th>\n",
       "      <th>G_RP_error</th>\n",
       "      <th>EBPRP</th>\n",
       "      <th>EBPRP_error</th>\n",
       "      <th>pflavour</th>\n",
       "    </tr>\n",
       "  </thead>\n",
       "  <tbody>\n",
       "    <tr>\n",
       "      <th>0</th>\n",
       "      <td>2228292706060074112</td>\n",
       "      <td>11.431196</td>\n",
       "      <td>11.225464</td>\n",
       "      <td>11.663009</td>\n",
       "      <td>6.696253</td>\n",
       "      <td>6.263338</td>\n",
       "      <td>7.184050</td>\n",
       "      <td>1.436909</td>\n",
       "      <td>1.345357</td>\n",
       "      <td>1.540067</td>\n",
       "      <td>...</td>\n",
       "      <td>0.353726</td>\n",
       "      <td>-2.125617</td>\n",
       "      <td>-1.561315</td>\n",
       "      <td>-2.838709</td>\n",
       "      <td>0.109028</td>\n",
       "      <td>0.124402</td>\n",
       "      <td>0.099373</td>\n",
       "      <td>1.277393</td>\n",
       "      <td>0.159220</td>\n",
       "      <td>speck</td>\n",
       "    </tr>\n",
       "    <tr>\n",
       "      <th>1</th>\n",
       "      <td>4087001612275854976</td>\n",
       "      <td>3.709583</td>\n",
       "      <td>3.368453</td>\n",
       "      <td>4.068415</td>\n",
       "      <td>1.466178</td>\n",
       "      <td>1.350279</td>\n",
       "      <td>1.576360</td>\n",
       "      <td>-0.722676</td>\n",
       "      <td>-0.778547</td>\n",
       "      <td>-0.663905</td>\n",
       "      <td>...</td>\n",
       "      <td>0.084303</td>\n",
       "      <td>-2.198835</td>\n",
       "      <td>-1.578964</td>\n",
       "      <td>-2.953660</td>\n",
       "      <td>0.043347</td>\n",
       "      <td>0.048770</td>\n",
       "      <td>0.039818</td>\n",
       "      <td>1.374697</td>\n",
       "      <td>0.062960</td>\n",
       "      <td>specjhk</td>\n",
       "    </tr>\n",
       "    <tr>\n",
       "      <th>2</th>\n",
       "      <td>1809102729743817344</td>\n",
       "      <td>5.068924</td>\n",
       "      <td>4.820812</td>\n",
       "      <td>5.246613</td>\n",
       "      <td>5.182323</td>\n",
       "      <td>4.892756</td>\n",
       "      <td>5.586656</td>\n",
       "      <td>-1.122697</td>\n",
       "      <td>-1.211915</td>\n",
       "      <td>-1.058803</td>\n",
       "      <td>...</td>\n",
       "      <td>0.022059</td>\n",
       "      <td>-2.844352</td>\n",
       "      <td>-2.163845</td>\n",
       "      <td>-3.642578</td>\n",
       "      <td>0.028887</td>\n",
       "      <td>0.040560</td>\n",
       "      <td>0.018285</td>\n",
       "      <td>1.478733</td>\n",
       "      <td>0.044491</td>\n",
       "      <td>specjhk</td>\n",
       "    </tr>\n",
       "    <tr>\n",
       "      <th>3</th>\n",
       "      <td>1753644424087243904</td>\n",
       "      <td>0.264083</td>\n",
       "      <td>-1.117881</td>\n",
       "      <td>1.586132</td>\n",
       "      <td>10.838261</td>\n",
       "      <td>9.043782</td>\n",
       "      <td>12.714064</td>\n",
       "      <td>-3.848823</td>\n",
       "      <td>-4.518548</td>\n",
       "      <td>-3.208134</td>\n",
       "      <td>...</td>\n",
       "      <td>0.042756</td>\n",
       "      <td>-3.136945</td>\n",
       "      <td>-2.260201</td>\n",
       "      <td>-4.050985</td>\n",
       "      <td>0.019697</td>\n",
       "      <td>0.026179</td>\n",
       "      <td>0.015709</td>\n",
       "      <td>1.790784</td>\n",
       "      <td>0.030531</td>\n",
       "      <td>specjhkg</td>\n",
       "    </tr>\n",
       "    <tr>\n",
       "      <th>4</th>\n",
       "      <td>6734219621618302592</td>\n",
       "      <td>0.627929</td>\n",
       "      <td>-0.330676</td>\n",
       "      <td>1.419690</td>\n",
       "      <td>-0.241239</td>\n",
       "      <td>-0.271583</td>\n",
       "      <td>-0.216177</td>\n",
       "      <td>-1.543228</td>\n",
       "      <td>-1.739958</td>\n",
       "      <td>-1.380739</td>\n",
       "      <td>...</td>\n",
       "      <td>0.069281</td>\n",
       "      <td>-2.625538</td>\n",
       "      <td>-2.028136</td>\n",
       "      <td>-3.366118</td>\n",
       "      <td>0.069312</td>\n",
       "      <td>0.083139</td>\n",
       "      <td>0.053638</td>\n",
       "      <td>1.337983</td>\n",
       "      <td>0.098939</td>\n",
       "      <td>specjhk</td>\n",
       "    </tr>\n",
       "    <tr>\n",
       "      <th>...</th>\n",
       "      <td>...</td>\n",
       "      <td>...</td>\n",
       "      <td>...</td>\n",
       "      <td>...</td>\n",
       "      <td>...</td>\n",
       "      <td>...</td>\n",
       "      <td>...</td>\n",
       "      <td>...</td>\n",
       "      <td>...</td>\n",
       "      <td>...</td>\n",
       "      <td>...</td>\n",
       "      <td>...</td>\n",
       "      <td>...</td>\n",
       "      <td>...</td>\n",
       "      <td>...</td>\n",
       "      <td>...</td>\n",
       "      <td>...</td>\n",
       "      <td>...</td>\n",
       "      <td>...</td>\n",
       "      <td>...</td>\n",
       "      <td>...</td>\n",
       "    </tr>\n",
       "    <tr>\n",
       "      <th>5411243</th>\n",
       "      <td>3545088275525629312</td>\n",
       "      <td>7.553928</td>\n",
       "      <td>7.500753</td>\n",
       "      <td>7.633901</td>\n",
       "      <td>-4.032848</td>\n",
       "      <td>-4.341381</td>\n",
       "      <td>-3.568820</td>\n",
       "      <td>3.457636</td>\n",
       "      <td>3.062187</td>\n",
       "      <td>3.720572</td>\n",
       "      <td>...</td>\n",
       "      <td>0.274716</td>\n",
       "      <td>-1.209813</td>\n",
       "      <td>-0.791824</td>\n",
       "      <td>-1.807678</td>\n",
       "      <td>0.099530</td>\n",
       "      <td>0.115296</td>\n",
       "      <td>0.088367</td>\n",
       "      <td>1.015854</td>\n",
       "      <td>0.145265</td>\n",
       "      <td>specjhk</td>\n",
       "    </tr>\n",
       "    <tr>\n",
       "      <th>5411244</th>\n",
       "      <td>2889506421672509568</td>\n",
       "      <td>9.553842</td>\n",
       "      <td>9.506363</td>\n",
       "      <td>9.592274</td>\n",
       "      <td>-2.232569</td>\n",
       "      <td>-2.298324</td>\n",
       "      <td>-2.151335</td>\n",
       "      <td>-1.171552</td>\n",
       "      <td>-1.206670</td>\n",
       "      <td>-1.128168</td>\n",
       "      <td>...</td>\n",
       "      <td>0.061838</td>\n",
       "      <td>-0.824734</td>\n",
       "      <td>-0.396215</td>\n",
       "      <td>-1.433132</td>\n",
       "      <td>0.024077</td>\n",
       "      <td>0.028475</td>\n",
       "      <td>0.021080</td>\n",
       "      <td>1.036917</td>\n",
       "      <td>0.035429</td>\n",
       "      <td>specjhk</td>\n",
       "    </tr>\n",
       "    <tr>\n",
       "      <th>5411245</th>\n",
       "      <td>3479908092359677568</td>\n",
       "      <td>7.818034</td>\n",
       "      <td>7.799509</td>\n",
       "      <td>7.832223</td>\n",
       "      <td>-1.340856</td>\n",
       "      <td>-1.398497</td>\n",
       "      <td>-1.296706</td>\n",
       "      <td>0.865263</td>\n",
       "      <td>0.837457</td>\n",
       "      <td>0.901565</td>\n",
       "      <td>...</td>\n",
       "      <td>0.014105</td>\n",
       "      <td>0.010476</td>\n",
       "      <td>0.387269</td>\n",
       "      <td>-0.547693</td>\n",
       "      <td>0.028133</td>\n",
       "      <td>0.029804</td>\n",
       "      <td>0.027157</td>\n",
       "      <td>0.934962</td>\n",
       "      <td>0.040321</td>\n",
       "      <td>specjhk</td>\n",
       "    </tr>\n",
       "    <tr>\n",
       "      <th>5411246</th>\n",
       "      <td>5654083549060480256</td>\n",
       "      <td>9.551065</td>\n",
       "      <td>9.519763</td>\n",
       "      <td>9.631352</td>\n",
       "      <td>-3.074365</td>\n",
       "      <td>-3.263931</td>\n",
       "      <td>-3.000456</td>\n",
       "      <td>0.722214</td>\n",
       "      <td>0.705352</td>\n",
       "      <td>0.765463</td>\n",
       "      <td>...</td>\n",
       "      <td>0.020351</td>\n",
       "      <td>-1.750884</td>\n",
       "      <td>-1.253830</td>\n",
       "      <td>-2.416193</td>\n",
       "      <td>0.027419</td>\n",
       "      <td>0.034707</td>\n",
       "      <td>0.018829</td>\n",
       "      <td>1.162363</td>\n",
       "      <td>0.039486</td>\n",
       "      <td>specjhk</td>\n",
       "    </tr>\n",
       "    <tr>\n",
       "      <th>5411247</th>\n",
       "      <td>5325632011075073408</td>\n",
       "      <td>8.187631</td>\n",
       "      <td>8.184979</td>\n",
       "      <td>8.190336</td>\n",
       "      <td>-2.452329</td>\n",
       "      <td>-2.558331</td>\n",
       "      <td>-2.344165</td>\n",
       "      <td>-0.027735</td>\n",
       "      <td>-0.029833</td>\n",
       "      <td>-0.025594</td>\n",
       "      <td>...</td>\n",
       "      <td>0.710826</td>\n",
       "      <td>-2.009050</td>\n",
       "      <td>-1.532513</td>\n",
       "      <td>-2.657519</td>\n",
       "      <td>0.709097</td>\n",
       "      <td>0.708100</td>\n",
       "      <td>0.709786</td>\n",
       "      <td>1.125006</td>\n",
       "      <td>1.002598</td>\n",
       "      <td>spec</td>\n",
       "    </tr>\n",
       "  </tbody>\n",
       "</table>\n",
       "<p>5411248 rows × 161 columns</p>\n",
       "</div>"
      ],
      "text/plain": [
       "                   source_id  X_med_dgeo  X_lo_dgeo  X_hi_dgeo  Y_med_dgeo  \\\n",
       "0        2228292706060074112   11.431196  11.225464  11.663009    6.696253   \n",
       "1        4087001612275854976    3.709583   3.368453   4.068415    1.466178   \n",
       "2        1809102729743817344    5.068924   4.820812   5.246613    5.182323   \n",
       "3        1753644424087243904    0.264083  -1.117881   1.586132   10.838261   \n",
       "4        6734219621618302592    0.627929  -0.330676   1.419690   -0.241239   \n",
       "...                      ...         ...        ...        ...         ...   \n",
       "5411243  3545088275525629312    7.553928   7.500753   7.633901   -4.032848   \n",
       "5411244  2889506421672509568    9.553842   9.506363   9.592274   -2.232569   \n",
       "5411245  3479908092359677568    7.818034   7.799509   7.832223   -1.340856   \n",
       "5411246  5654083549060480256    9.551065   9.519763   9.631352   -3.074365   \n",
       "5411247  5325632011075073408    8.187631   8.184979   8.190336   -2.452329   \n",
       "\n",
       "         Y_lo_dgeo  Y_hi_dgeo  Z_med_dgeo  Z_lo_dgeo  Z_hi_dgeo  ...  \\\n",
       "0         6.263338   7.184050    1.436909   1.345357   1.540067  ...   \n",
       "1         1.350279   1.576360   -0.722676  -0.778547  -0.663905  ...   \n",
       "2         4.892756   5.586656   -1.122697  -1.211915  -1.058803  ...   \n",
       "3         9.043782  12.714064   -3.848823  -4.518548  -3.208134  ...   \n",
       "4        -0.271583  -0.216177   -1.543228  -1.739958  -1.380739  ...   \n",
       "...            ...        ...         ...        ...        ...  ...   \n",
       "5411243  -4.341381  -3.568820    3.457636   3.062187   3.720572  ...   \n",
       "5411244  -2.298324  -2.151335   -1.171552  -1.206670  -1.128168  ...   \n",
       "5411245  -1.398497  -1.296706    0.865263   0.837457   0.901565  ...   \n",
       "5411246  -3.263931  -3.000456    0.722214   0.705352   0.765463  ...   \n",
       "5411247  -2.558331  -2.344165   -0.027735  -0.029833  -0.025594  ...   \n",
       "\n",
       "         M_ini_error         G      G_BP      G_RP   G_error  G_BP_error  \\\n",
       "0           0.353726 -2.125617 -1.561315 -2.838709  0.109028    0.124402   \n",
       "1           0.084303 -2.198835 -1.578964 -2.953660  0.043347    0.048770   \n",
       "2           0.022059 -2.844352 -2.163845 -3.642578  0.028887    0.040560   \n",
       "3           0.042756 -3.136945 -2.260201 -4.050985  0.019697    0.026179   \n",
       "4           0.069281 -2.625538 -2.028136 -3.366118  0.069312    0.083139   \n",
       "...              ...       ...       ...       ...       ...         ...   \n",
       "5411243     0.274716 -1.209813 -0.791824 -1.807678  0.099530    0.115296   \n",
       "5411244     0.061838 -0.824734 -0.396215 -1.433132  0.024077    0.028475   \n",
       "5411245     0.014105  0.010476  0.387269 -0.547693  0.028133    0.029804   \n",
       "5411246     0.020351 -1.750884 -1.253830 -2.416193  0.027419    0.034707   \n",
       "5411247     0.710826 -2.009050 -1.532513 -2.657519  0.709097    0.708100   \n",
       "\n",
       "         G_RP_error     EBPRP  EBPRP_error  pflavour  \n",
       "0          0.099373  1.277393     0.159220     speck  \n",
       "1          0.039818  1.374697     0.062960   specjhk  \n",
       "2          0.018285  1.478733     0.044491   specjhk  \n",
       "3          0.015709  1.790784     0.030531  specjhkg  \n",
       "4          0.053638  1.337983     0.098939   specjhk  \n",
       "...             ...       ...          ...       ...  \n",
       "5411243    0.088367  1.015854     0.145265   specjhk  \n",
       "5411244    0.021080  1.036917     0.035429   specjhk  \n",
       "5411245    0.027157  0.934962     0.040321   specjhk  \n",
       "5411246    0.018829  1.162363     0.039486   specjhk  \n",
       "5411247    0.709786  1.125006     1.002598      spec  \n",
       "\n",
       "[5411248 rows x 161 columns]"
      ]
     },
     "execution_count": 7,
     "metadata": {},
     "output_type": "execute_result"
    }
   ],
   "source": [
    "df2"
   ]
  },
  {
   "cell_type": "code",
   "execution_count": 8,
   "id": "8af31e47",
   "metadata": {},
   "outputs": [
    {
     "name": "stdout",
     "output_type": "stream",
     "text": [
      "0    13.248114\n",
      "1     3.988895\n",
      "Name: R_med_dgeo, dtype: float32\n"
     ]
    }
   ],
   "source": [
    "#sorting data to get stars which are at heliocentric line-of-sight distance < 1kpc\n",
    "#Given by the R_med_dgeo column in the data frame.\n",
    "\n",
    "#distances less than 1kpc defined by:\n",
    "distance=df2.R_med_dgeo\n",
    "print(distance.head(2))"
   ]
  },
  {
   "cell_type": "code",
   "execution_count": 9,
   "id": "54104169",
   "metadata": {},
   "outputs": [],
   "source": [
    "#location=R_med_dgeo.loc[(R_med_dgeo['R_med_dgeo'] < 1.0)]\n",
    "#print(location.head(100))"
   ]
  },
  {
   "cell_type": "code",
   "execution_count": 10,
   "id": "0572cdd5",
   "metadata": {},
   "outputs": [],
   "source": [
    "#location=distance.loc[(distance < 1.0)]\n",
    "#print(location.head(1000))\n",
    "#this prints the values of the distances which are < 1kpc :)\n",
    "#now just to print with ages....."
   ]
  },
  {
   "cell_type": "code",
   "execution_count": 11,
   "id": "762633eb",
   "metadata": {},
   "outputs": [
    {
     "name": "stdout",
     "output_type": "stream",
     "text": [
      "        age  R_med_dgeo  VR_med_dgeo\n",
      "0  2.027350   13.248114  -292.623016\n",
      "1  2.304704    3.988895   221.259552\n"
     ]
    }
   ],
   "source": [
    "#selecting two columns from full data frame,\n",
    "fullset=df2[['age', 'R_med_dgeo', 'VR_med_dgeo']]\n",
    "print(fullset.head(2))"
   ]
  },
  {
   "cell_type": "code",
   "execution_count": 54,
   "id": "ec02bb71",
   "metadata": {},
   "outputs": [
    {
     "name": "stdout",
     "output_type": "stream",
     "text": [
      "              age  R_med_dgeo  VR_med_dgeo\n",
      "20548    3.006164    0.851233   127.430336\n",
      "22580    2.962054    0.729654   167.464127\n",
      "23440    3.059043    0.714701   176.133179\n",
      "27333    2.960768    0.736807    99.220070\n",
      "33714    2.920597    0.588724  -115.780655\n",
      "...           ...         ...          ...\n",
      "5382660  3.088910    0.784633   -72.880196\n",
      "5387343  2.968348    0.881828   -83.861664\n",
      "5399300  2.942700    0.883496  -148.810974\n",
      "5400672  3.007774    0.836346   -47.222965\n",
      "5400712  3.015444    0.747465  -178.833450\n",
      "\n",
      "[69 rows x 3 columns]\n"
     ]
    }
   ],
   "source": [
    "#location of the required ages sample from 0.5 Gyr to 13.0 Gyr at a fixed heliocentric distance of < 1kpc - with complete \n",
    "#freedom over the values for the median radial velocity.\n",
    "#location=velocities_and_ages.loc[(velocities_and_ages['age'] )]\n",
    "#print(location)\n",
    "#foragesbetween2.8&3.1 Gyr\n",
    "#test=df2['age'].between(2.9, 3.4)\n",
    "#just create two 'bits' of information with one 2.9 < x < 3.4 \n",
    "location=fullset.loc[fullset['age'].between(2.9, 3.1)]\n",
    "#applying the correction for the distance < 1kpc\n",
    "vrcorrection=location.loc[location['R_med_dgeo'] <= 1]\n",
    "print(vrcorrection.head(100))"
   ]
  },
  {
   "cell_type": "markdown",
   "id": "0d76d6b5",
   "metadata": {},
   "source": [
    "The above code specifies the ages ~ 3 Gyr for stars that are less than 1kpc in terms of the distance from the sun (heliocentric distance r)."
   ]
  },
  {
   "cell_type": "code",
   "execution_count": 55,
   "id": "d01184b1",
   "metadata": {},
   "outputs": [
    {
     "name": "stdout",
     "output_type": "stream",
     "text": [
      "79.95616\n"
     ]
    }
   ],
   "source": [
    "#standard deviation/velocity dispersion\n",
    "σ3=((vrcorrection.head(100)).std()['VR_med_dgeo'])\n",
    "print(σ3)"
   ]
  },
  {
   "cell_type": "code",
   "execution_count": 49,
   "id": "e035d176",
   "metadata": {},
   "outputs": [
    {
     "name": "stdout",
     "output_type": "stream",
     "text": [
      "              age  R_med_dgeo  VR_med_dgeo\n",
      "2780     1.931224    0.780080   242.428619\n",
      "25087    1.970559    0.939919   -49.071625\n",
      "36693    2.032885    0.948339   159.660324\n",
      "38032    2.053430    0.921257  -108.657173\n",
      "38943    2.044654    0.815245    69.228928\n",
      "...           ...         ...          ...\n",
      "5389217  2.035236    0.507011   -29.046259\n",
      "5393889  1.970525    0.581100  -132.329300\n",
      "5396532  2.039176    0.857516   131.057251\n",
      "5404485  1.956382    0.730527   184.831970\n",
      "5405416  2.030671    0.970637  -208.404785\n",
      "\n",
      "[100 rows x 3 columns]\n"
     ]
    }
   ],
   "source": [
    "location2=fullset.loc[fullset['age'].between(1.9, 2.1)]\n",
    "vrcorrection2=location2.loc[location2['R_med_dgeo'] <= 1]\n",
    "print(vrcorrection2.head(100))"
   ]
  },
  {
   "cell_type": "code",
   "execution_count": 50,
   "id": "70996226",
   "metadata": {},
   "outputs": [
    {
     "name": "stdout",
     "output_type": "stream",
     "text": [
      "85.78309\n"
     ]
    }
   ],
   "source": [
    "σ2=(vrcorrection2.std()['VR_med_dgeo'])\n",
    "print(σ2)"
   ]
  },
  {
   "cell_type": "markdown",
   "id": "0ad9ac9c",
   "metadata": {},
   "source": [
    "As expected with the data, the velocity dispersion increases with age ~ we can see this pattern emerging from the the velocity dispersions of stars with ages ~3Gyr - 84.73167 ~2Gyr - 82.86817"
   ]
  },
  {
   "cell_type": "markdown",
   "id": "65a21cfd",
   "metadata": {},
   "source": [
    "# Plotting Age-Velocity Dispersions"
   ]
  },
  {
   "cell_type": "markdown",
   "id": "1737851c",
   "metadata": {},
   "source": [
    "Creating the files needed to plot the velocity dispersion relations: The midpoints of the data will be labelled as \"A_midpoint\", i.e velocity dispersion data for a star in the range 0 < 0.5 < 0.54 labelled as A_05"
   ]
  },
  {
   "cell_type": "code",
   "execution_count": 20,
   "id": "ddd93498",
   "metadata": {},
   "outputs": [
    {
     "name": "stdout",
     "output_type": "stream",
     "text": [
      "            age  R_med_dgeo  VR_med_dgeo\n",
      "16     0.466677    0.979322   390.463593\n",
      "36     0.275925    0.898284   450.453003\n",
      "296    0.227559    0.963731   230.239685\n",
      "645    0.376902    0.694259    75.670708\n",
      "877    0.238205    0.849990   221.644897\n",
      "...         ...         ...          ...\n",
      "72162  0.226407    0.788800   -89.422432\n",
      "74276  0.471619    0.971283    85.859116\n",
      "77625  0.321737    0.914796     6.084966\n",
      "77791  0.241312    0.809348    14.373614\n",
      "78007  0.477544    0.890930    12.605488\n",
      "\n",
      "[100 rows x 3 columns]\n"
     ]
    }
   ],
   "source": [
    "agelocation005=fullset.loc[fullset['age'].between(0, 0.54)]\n",
    "A_05=agelocation005.loc[agelocation05['R_med_dgeo'] <= 1]\n",
    "print(A_05.head(100))\n",
    "#the below shows the ages of stars between 0 and 0.54 corresponding to a midpoint of 0.5 --> all being less than 1kpc from centre"
   ]
  },
  {
   "cell_type": "code",
   "execution_count": 39,
   "id": "f7393ff9",
   "metadata": {},
   "outputs": [
    {
     "name": "stdout",
     "output_type": "stream",
     "text": [
      "            age  R_med_dgeo  VR_med_dgeo\n",
      "176    0.729077    0.893626   -11.575837\n",
      "1010   0.724491    0.996432   172.996796\n",
      "1708   0.686224    0.957681   310.880157\n",
      "1978   0.826776    0.979127   -28.272308\n",
      "2075   0.661168    0.848134   252.211334\n",
      "...         ...         ...          ...\n",
      "73782  1.077329    0.915160    53.608181\n",
      "74051  0.667755    0.821726   118.094231\n",
      "75363  0.650160    0.968206    32.395813\n",
      "77581  0.551949    0.613122    58.416260\n",
      "78197  0.757616    0.957690    36.962315\n",
      "\n",
      "[100 rows x 3 columns]\n"
     ]
    }
   ],
   "source": [
    "agelocation0010=fullset.loc[fullset['age'].between(0.55, 1.44)]\n",
    "#A_10=agelocation0010.loc[agelocation0010['R_med_dgeo'] <= 1]\n",
    "print(A_10.head(100))"
   ]
  },
  {
   "cell_type": "code",
   "execution_count": 58,
   "id": "921d606c",
   "metadata": {},
   "outputs": [
    {
     "name": "stdout",
     "output_type": "stream",
     "text": [
      "41.938194\n"
     ]
    }
   ],
   "source": [
    "agelocation0015=fullset.loc[fullset['age'].between(1.45, 1.54)]\n",
    "#A_15=agelocation0015.loc[agelocation0015['R_med_dgeo'] <= 1]\n",
    "σ1_5=(agelocation0015.std()['VR_med_dgeo'])\n",
    "print(σ1_5)"
   ]
  },
  {
   "cell_type": "code",
   "execution_count": 33,
   "id": "81122464",
   "metadata": {},
   "outputs": [],
   "source": [
    "agelocation0020=fullset.loc[fullset['age'].between(1.55, 2.44)]\n",
    "#A_20=agelocation0020.loc[agelocation0020['R_med_dgeo'] <= 1]\n",
    "\n",
    "\n",
    "agelocation0025=fullset.loc[fullset['age'].between(2.45, 2.54)]\n",
    "#A_25=agelocation0025.loc[agelocation0025['R_med_dgeo'] <= 1]\n",
    "\n",
    "agelocation0030=fullset.loc[fullset['age'].between(2.55, 3.44)]\n",
    "#A_30=agelocation0030.loc[agelocation0030['R_med_dgeo'] <= 1]\n",
    "\n",
    "agelocation0035=fullset.loc[fullset['age'].between(3.45, 3.54)]\n",
    "#A_35=agelocation0035.loc[agelocation0035['R_med_dgeo'] <= 1]\n",
    "\n",
    "agelocation0040=fullset.loc[fullset['age'].between(3.55, 4.44)]\n",
    "#A_40=agelocation0040.loc[agelocation0040['R_med_dgeo'] <= 1]\n",
    "\n",
    "agelocation0045=fullset.loc[fullset['age'].between(4.45, 4.54)]\n",
    "#A_45=agelocation0045.loc[agelocation0045['R_med_dgeo'] <= 1]\n",
    "\n",
    "agelocation0050=fullset.loc[fullset['age'].between(4.55, 5.44)]\n",
    "#A_50=agelocation0050.loc[agelocation0050['R_med_dgeo'] <= 1]\n",
    "\n",
    "agelocation0055=fullset.loc[fullset['age'].between(5.45, 5.54)]\n",
    "#A_55=agelocation0055.loc[agelocation0055['R_med_dgeo'] <= 1]\n",
    "\n",
    "agelocation0060=fullset.loc[fullset['age'].between(5.55, 6.44)]\n",
    "#A_60=agelocation0060.loc[agelocation0060['R_med_dgeo'] <= 1]\n",
    "\n",
    "agelocation0065=fullset.loc[fullset['age'].between(6.45, 6.54)]\n",
    "#A_65=agelocation0065.loc[agelocation0065['R_med_dgeo'] <= 1]\n",
    "\n",
    "agelocation0070=fullset.loc[fullset['age'].between(6.55, 7.44)]\n",
    "#A_70=agelocation0070.loc[agelocation0070['R_med_dgeo'] <= 1]\n",
    "\n",
    "agelocation0075=fullset.loc[fullset['age'].between(7.45, 7.54)]\n",
    "#A_75=agelocation0075.loc[agelocation0075['R_med_dgeo'] <= 1]\n",
    "\n",
    "agelocation0080=fullset.loc[fullset['age'].between(7.55, 8.44)]\n",
    "#A_80=agelocation0080.loc[agelocation0080['R_med_dgeo'] <= 1]\n",
    "\n",
    "agelocation0085=fullset.loc[fullset['age'].between(8.45, 8.44)]\n",
    "#A_85=agelocation0085.loc[agelocation0085['R_med_dgeo'] <= 1]\n",
    "\n",
    "agelocation0090=fullset.loc[fullset['age'].between(8.45, 9.44)]\n",
    "#A_90=agelocation0090.loc[agelocation0090['R_med_dgeo'] <= 1]\n",
    "\n",
    "agelocation0095=fullset.loc[fullset['age'].between(9.45, 9.54)]\n",
    "#A_95=agelocation0095.loc[agelocation0095['R_med_dgeo'] <= 1]\n",
    "\n",
    "agelocation010=fullset.loc[fullset['age'].between(9.55, 10.44)]\n",
    "#A_100=agelocation010.loc[agelocation010['R_med_dgeo'] <= 1]\n",
    "\n",
    "agelocation0105=fullset.loc[fullset['age'].between(10.45, 10.54)]\n",
    "#A_105=agelocation0105.loc[agelocation0105['R_med_dgeo'] <= 1]\n",
    "\n",
    "agelocation011=fullset.loc[fullset['age'].between(10.55, 11.44)]\n",
    "#A_110=agelocation011.loc[agelocation011['R_med_dgeo'] <= 1]\n",
    "\n",
    "agelocation0115=fullset.loc[fullset['age'].between(11.45, 11.54)]\n",
    "#A_115=agelocation0115.loc[agelocation0115['R_med_dgeo'] <= 1]\n",
    "\n",
    "agelocation012=fullset.loc[fullset['age'].between(11.55, 12.44)]\n",
    "#A_120=agelocation012.loc[agelocation012['R_med_dgeo'] <= 1]\n",
    "\n",
    "agelocation0125=fullset.loc[fullset['age'].between(12.45, 12.54)]\n",
    "#A_125=agelocation0125.loc[agelocation0125['R_med_dgeo'] <= 1]\n",
    "\n",
    "agelocation013=fullset.loc[fullset['age'].between(12.55, 13.44)]\n",
    "#A_130=agelocation013.loc[agelocation013['R_med_dgeo'] <= 1]\n",
    "\n"
   ]
  },
  {
   "cell_type": "code",
   "execution_count": 70,
   "id": "c82419c5",
   "metadata": {},
   "outputs": [
    {
     "name": "stdout",
     "output_type": "stream",
     "text": [
      "42.8888\n",
      "40.177036\n",
      "40.677658\n",
      "42.09683\n",
      "43.28148\n",
      "44.510677\n",
      "45.04598\n",
      "46.10732\n",
      "49.787212\n",
      "55.81593\n",
      "46.91648\n",
      "46.46324\n",
      "46.981842\n"
     ]
    }
   ],
   "source": [
    "agelocation0010=fullset.loc[fullset['age'].between(0.5, 1.4)]\n",
    "σ1_0=(agelocation0010.std()['VR_med_dgeo'])\n",
    "print(σ1_0)\n",
    "\n",
    "agelocation0020=fullset.loc[fullset['age'].between(1.5, 2.4)]\n",
    "σ2_0=(agelocation0020.std()['VR_med_dgeo'])\n",
    "print(σ2_0)\n",
    "\n",
    "agelocation0030=fullset.loc[fullset['age'].between(2.5, 3.4)]\n",
    "σ3_0=(agelocation0030.std()['VR_med_dgeo'])\n",
    "print(σ3_0)\n",
    "\n",
    "agelocation0040=fullset.loc[fullset['age'].between(3.5, 4.4)]\n",
    "σ4_0=(agelocation0040.std()['VR_med_dgeo'])\n",
    "print(σ4_0)\n",
    "\n",
    "agelocation0050=fullset.loc[fullset['age'].between(4.5,5.4)]\n",
    "σ5_0=(agelocation0050.std()['VR_med_dgeo'])\n",
    "print(σ5_0)\n",
    "\n",
    "agelocation0060=fullset.loc[fullset['age'].between(5.5, 6.4)]\n",
    "σ6_0=(agelocation0060.std()['VR_med_dgeo'])\n",
    "print(σ6_0)\n",
    "\n",
    "agelocation0070=fullset.loc[fullset['age'].between(6.5, 7.4)]\n",
    "σ7_0=(agelocation0070.std()['VR_med_dgeo'])\n",
    "print(σ7_0)\n",
    "\n",
    "\n",
    "agelocation0080=fullset.loc[fullset['age'].between(7.5, 8.4)]\n",
    "σ8_0=(agelocation0080.std()['VR_med_dgeo'])\n",
    "print(σ8_0)\n",
    "\n",
    "agelocation0090=fullset.loc[fullset['age'].between(8.5, 9.4)]\n",
    "σ9_0=(agelocation0090.std()['VR_med_dgeo'])\n",
    "print(σ9_0)\n",
    "\n",
    "agelocation010=fullset.loc[fullset['age'].between(9.5, 10.4)]\n",
    "σ10_0=(agelocation010.std()['VR_med_dgeo'])\n",
    "print(σ10_0)\n",
    "\n",
    "agelocation011=fullset.loc[fullset['age'].between(10.5, 11.4)]\n",
    "σ11_0=(agelocation011.std()['VR_med_dgeo'])\n",
    "print(σ11_0)\n",
    "\n",
    "agelocation012=fullset.loc[fullset['age'].between(11.5, 12.4)]\n",
    "σ12_0=(agelocation012.std()['VR_med_dgeo'])\n",
    "print(σ12_0)\n",
    "\n",
    "agelocation013=fullset.loc[fullset['age'].between(12.5, 13.0)]\n",
    "σ13_0=(agelocation013.std()['VR_med_dgeo'])\n",
    "print(σ13_0)"
   ]
  },
  {
   "cell_type": "code",
   "execution_count": 75,
   "id": "69e7b53a",
   "metadata": {},
   "outputs": [
    {
     "data": {
      "text/html": [
       "<div>\n",
       "<style scoped>\n",
       "    .dataframe tbody tr th:only-of-type {\n",
       "        vertical-align: middle;\n",
       "    }\n",
       "\n",
       "    .dataframe tbody tr th {\n",
       "        vertical-align: top;\n",
       "    }\n",
       "\n",
       "    .dataframe thead th {\n",
       "        text-align: right;\n",
       "    }\n",
       "</style>\n",
       "<table border=\"1\" class=\"dataframe\">\n",
       "  <thead>\n",
       "    <tr style=\"text-align: right;\">\n",
       "      <th></th>\n",
       "      <th>Ages</th>\n",
       "      <th>Radial_Velocity_Dispersion</th>\n",
       "    </tr>\n",
       "  </thead>\n",
       "  <tbody>\n",
       "    <tr>\n",
       "      <th>0</th>\n",
       "      <td>1</td>\n",
       "      <td>42.888800</td>\n",
       "    </tr>\n",
       "    <tr>\n",
       "      <th>1</th>\n",
       "      <td>2</td>\n",
       "      <td>40.177036</td>\n",
       "    </tr>\n",
       "    <tr>\n",
       "      <th>2</th>\n",
       "      <td>3</td>\n",
       "      <td>40.677658</td>\n",
       "    </tr>\n",
       "    <tr>\n",
       "      <th>3</th>\n",
       "      <td>4</td>\n",
       "      <td>42.096830</td>\n",
       "    </tr>\n",
       "    <tr>\n",
       "      <th>4</th>\n",
       "      <td>5</td>\n",
       "      <td>43.281480</td>\n",
       "    </tr>\n",
       "    <tr>\n",
       "      <th>5</th>\n",
       "      <td>6</td>\n",
       "      <td>44.510677</td>\n",
       "    </tr>\n",
       "    <tr>\n",
       "      <th>6</th>\n",
       "      <td>7</td>\n",
       "      <td>45.045980</td>\n",
       "    </tr>\n",
       "    <tr>\n",
       "      <th>7</th>\n",
       "      <td>8</td>\n",
       "      <td>46.107320</td>\n",
       "    </tr>\n",
       "    <tr>\n",
       "      <th>8</th>\n",
       "      <td>9</td>\n",
       "      <td>49.787212</td>\n",
       "    </tr>\n",
       "    <tr>\n",
       "      <th>9</th>\n",
       "      <td>10</td>\n",
       "      <td>55.815930</td>\n",
       "    </tr>\n",
       "    <tr>\n",
       "      <th>10</th>\n",
       "      <td>11</td>\n",
       "      <td>46.916480</td>\n",
       "    </tr>\n",
       "    <tr>\n",
       "      <th>11</th>\n",
       "      <td>12</td>\n",
       "      <td>46.463240</td>\n",
       "    </tr>\n",
       "    <tr>\n",
       "      <th>12</th>\n",
       "      <td>13</td>\n",
       "      <td>46.981842</td>\n",
       "    </tr>\n",
       "  </tbody>\n",
       "</table>\n",
       "</div>"
      ],
      "text/plain": [
       "    Ages  Radial_Velocity_Dispersion\n",
       "0      1                   42.888800\n",
       "1      2                   40.177036\n",
       "2      3                   40.677658\n",
       "3      4                   42.096830\n",
       "4      5                   43.281480\n",
       "5      6                   44.510677\n",
       "6      7                   45.045980\n",
       "7      8                   46.107320\n",
       "8      9                   49.787212\n",
       "9     10                   55.815930\n",
       "10    11                   46.916480\n",
       "11    12                   46.463240\n",
       "12    13                   46.981842"
      ]
     },
     "execution_count": 75,
     "metadata": {},
     "output_type": "execute_result"
    }
   ],
   "source": [
    "d = {'Ages': [1, 2, 3, 4, 5, 6, 7, 8, 9, 10, 11, 12, 13], \n",
    "               'Radial_Velocity_Dispersion': [42.8888, 40.177036, 40.677658, 42.09683, 43.28148, 44.510677, 45.04598, \n",
    "                                             46.10732, 49.787212, 55.81593, 46.91648, 46.46324, 46.981842 ]}\n",
    "df3 = pd.DataFrame(data=d)\n",
    "df3"
   ]
  },
  {
   "cell_type": "code",
   "execution_count": 80,
   "id": "3461b840",
   "metadata": {},
   "outputs": [
    {
     "data": {
      "text/plain": [
       "Text(0.5, 0, 'Age in Gyr')"
      ]
     },
     "execution_count": 80,
     "metadata": {},
     "output_type": "execute_result"
    },
    {
     "data": {
      "image/png": "[encoded data removed]",
      "text/plain": [
       "<Figure size 432x288 with 1 Axes>"
      ]
     },
     "metadata": {
      "needs_background": "light"
     },
     "output_type": "display_data"
    }
   ],
   "source": [
    "Agess=df3.Ages\n",
    "VelocityDispersion=df3.Radial_Velocity_Dispersion\n",
    "plt.scatter(Agess, VelocityDispersion)\n",
    "plt.title('Radial Velocity Dispersions vs Stellar Age')\n",
    "plt.ylabel('Radial Velocity Dispersion km/s')\n",
    "plt.xlabel('Age in Gyr')"
   ]
  },
  {
   "cell_type": "code",
   "execution_count": null,
   "id": "481ed357",
   "metadata": {},
   "outputs": [],
   "source": []
  }
 ],
 "metadata": {
  "kernelspec": {
   "display_name": "Python 3 (ipykernel)",
   "language": "python",
   "name": "python3"
  },
  "language_info": {
   "codemirror_mode": {
    "name": "ipython",
    "version": 3
   },
   "file_extension": ".py",
   "mimetype": "text/x-python",
   "name": "python",
   "nbconvert_exporter": "python",
   "pygments_lexer": "ipython3",
   "version": "3.9.12"
  }
 },
 "nbformat": 4,
 "nbformat_minor": 5
}
